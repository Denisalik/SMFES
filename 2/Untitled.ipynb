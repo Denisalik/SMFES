{
 "cells": [
  {
   "cell_type": "code",
   "execution_count": 5,
   "id": "7b8c3808",
   "metadata": {
    "colab": {
     "base_uri": "https://localhost:8080/"
    },
    "id": "7b8c3808",
    "outputId": "4a1728f2-9ac8-46f5-db96-cdaafd25da9c"
   },
   "outputs": [
    {
     "name": "stdout",
     "output_type": "stream",
     "text": [
      "Populating the interactive namespace from numpy and matplotlib\n"
     ]
    }
   ],
   "source": [
    "# !pip install pysd\n",
    "%pylab inline\n",
    "import pysd\n",
    "from matplotlib import pyplot as plt"
   ]
  },
  {
   "cell_type": "code",
   "execution_count": 6,
   "id": "820b53fb",
   "metadata": {
    "id": "820b53fb"
   },
   "outputs": [],
   "source": [
    "model = pysd.load('./model.py')"
   ]
  },
  {
   "cell_type": "code",
   "execution_count": 7,
   "id": "1d925b99",
   "metadata": {
    "colab": {
     "base_uri": "https://localhost:8080/",
     "height": 279
    },
    "id": "1d925b99",
    "outputId": "c6c69724-7401-4953-ebbe-06f00d95c20c"
   },
   "outputs": [
    {
     "data": {
      "image/png": "[encoded data removed]",
      "text/plain": [
       "<Figure size 432x288 with 1 Axes>"
      ]
     },
     "metadata": {
      "needs_background": "light"
     },
     "output_type": "display_data"
    }
   ],
   "source": [
    "model.reload()\n",
    "#for p first index is company: 1 - our, 2 - competitor. Second index is: satisfied - 1, neutral - 2, disappointed - 3.\n",
    "values = model.run(\n",
    "    params={\n",
    "        #other params(rate, word of mouth efficiency, marketing_efficiency e.t.c) are written in model.py\n",
    "        #default are:def sociability - 100, word_of_mouth_efficiency - 0.015, marketing_efficiency - 0.011,\n",
    "        #our_clients_initial - 0, potential_clients_initial - 100000, competitor_clients_initial - 0,\n",
    "        #p11 - 0.5, p13 - 0.5, p21 - 0.5, p23 - 0.5\n",
    "        \"p11\": 0.45, \"p13\": 0.4, \"p21\": 0.6, \"p23\": 0.4\n",
    "    },#choose only these columns\n",
    "    return_columns=[\"competitors population\", \"potential population\", \"our population\"])\n",
    "values.plot()\n",
    "plt.ylabel('Data')\n",
    "plt.xlabel('Month')\n",
    "plt.legend(loc='center left', bbox_to_anchor=(1,.5));"
   ]
  },
  {
   "cell_type": "code",
   "execution_count": 8,
   "id": "fd734751",
   "metadata": {
    "colab": {
     "base_uri": "https://localhost:8080/"
    },
    "id": "fd734751",
    "outputId": "c07d7a28-3c29-40ae-9415-da60c5bda09e"
   },
   "outputs": [
    {
     "name": "stdout",
     "output_type": "stream",
     "text": [
      "0\n",
      "10\n",
      "20\n",
      "30\n",
      "40\n",
      "50\n",
      "60\n",
      "70\n",
      "80\n",
      "90\n"
     ]
    },
    {
     "data": {
      "text/plain": [
       "10000"
      ]
     },
     "execution_count": 8,
     "metadata": {},
     "output_type": "execute_result"
    }
   ],
   "source": [
    "dataset = []\n",
    "for i in range(100):#p11 and p21 are choosen from 0 to 1 using step=0.01, p13 and p23 are other remaining part of 1\n",
    "    if i%10==0:\n",
    "        print(i)#logging percents of calculations\n",
    "    for j in range(100):\n",
    "        p11 = i/100\n",
    "        p13 = 1 - p11\n",
    "        p21 = j/100\n",
    "        p23 = 1 - p21\n",
    "        final_time = 300\n",
    "        model.reload()\n",
    "        values = model.run(\n",
    "            params={\n",
    "                \"p11\": p11, \"p13\": p13, \"p21\": p21, \"p23\": p23, \"time final\": final_time\n",
    "            },\n",
    "            return_columns=[\"competitors population\", \"potential population\", \"our population\"])\n",
    "        #if last errors are small enough then sequence is convergent\n",
    "        converge = True\n",
    "        epsilon = 1\n",
    "        for k in range(4, -1, -1):\n",
    "            potential_population_error = abs(values[\"potential population\"][final_time - 1 - k] - values[\"potential population\"][final_time - k])\n",
    "            competitors_population_error = abs(values[\"competitors population\"][final_time - 1 - k] - values[\"competitors population\"][final_time - k])\n",
    "            our_population_error = abs(values[\"our population\"][final_time - 1 - k] - values[\"our population\"][final_time - k])\n",
    "            if(potential_population_error > epsilon and\n",
    "               competitors_population_error > epsilon and\n",
    "               our_population_error > epsilon):\n",
    "                converge = False\n",
    "        #0.01 percent error out of all population(10000)\n",
    "        if converge:\n",
    "            #append to dataset only convergent sequences\n",
    "            dataset.append({\n",
    "                \"p11\": p11,\n",
    "                \"p13\": p13,\n",
    "                \"p21\": p21,\n",
    "                \"p23\": p23,\n",
    "                #all necessary values for ML model\n",
    "                \"potential_population\": values[\"potential population\"][final_time],#if it will be needed\n",
    "                \"competitors_population\": values[\"competitors population\"][final_time],#m2\n",
    "                \"our_population\": values[\"our population\"][final_time]#m1\n",
    "            })\n",
    "#check number of elements in dataset\n",
    "len(dataset)#10000 elements out of 20000"
   ]
  },
  {
   "cell_type": "code",
   "execution_count": 11,
   "id": "e288d0d8",
   "metadata": {
    "colab": {
     "base_uri": "https://localhost:8080/"
    },
    "id": "e288d0d8",
    "outputId": "333c54ba-07c2-4a00-9c1b-da5e9d2eacac"
   },
   "outputs": [
    {
     "data": {
      "text/plain": [
       "{'competitors_population': 72019.96309446596,\n",
       " 'our_population': 501.38494590231585,\n",
       " 'p11': 0.0,\n",
       " 'p13': 1.0,\n",
       " 'p21': 0.5,\n",
       " 'p23': 0.5,\n",
       " 'potential_population': 27478.65195963176}"
      ]
     },
     "execution_count": 11,
     "metadata": {},
     "output_type": "execute_result"
    }
   ],
   "source": [
    "dataset[50]#example of data for training\\testing model"
   ]
  },
  {
   "cell_type": "code",
   "execution_count": null,
   "id": "iQqZa4ru8wG5",
   "metadata": {
    "id": "iQqZa4ru8wG5"
   },
   "outputs": [],
   "source": []
  }
 ],
 "metadata": {
  "accelerator": "GPU",
  "colab": {
   "name": "Untitled.ipynb",
   "provenance": []
  },
  "kernelspec": {
   "display_name": "Python 3 (ipykernel)",
   "language": "python",
   "name": "python3"
  },
  "language_info": {
   "codemirror_mode": {
    "name": "ipython",
    "version": 3
   },
   "file_extension": ".py",
   "mimetype": "text/x-python",
   "name": "python",
   "nbconvert_exporter": "python",
   "pygments_lexer": "ipython3",
   "version": "3.8.8"
  }
 },
 "nbformat": 4,
 "nbformat_minor": 5
}
